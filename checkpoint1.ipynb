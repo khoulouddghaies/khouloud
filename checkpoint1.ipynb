{
  "nbformat": 4,
  "nbformat_minor": 0,
  "metadata": {
    "colab": {
      "name": "checkpoint1.ipynb",
      "provenance": []
    },
    "kernelspec": {
      "name": "python3",
      "display_name": "Python 3"
    }
  },
  "cells": [
    {
      "cell_type": "code",
      "metadata": {
        "colab": {
          "base_uri": "https://localhost:8080/"
        },
        "id": "5HY3W44S2uCY",
        "outputId": "c75f7318-9e02-40cb-b23d-b40ee80946ba"
      },
      "source": [
        "print(\"Welcome to python world!\")"
      ],
      "execution_count": 1,
      "outputs": [
        {
          "output_type": "stream",
          "text": [
            "Welcome to python world!\n"
          ],
          "name": "stdout"
        }
      ]
    }
  ]
}